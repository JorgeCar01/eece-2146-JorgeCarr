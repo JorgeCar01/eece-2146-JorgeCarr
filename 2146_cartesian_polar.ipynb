{
 "cells": [
  {
   "cell_type": "code",
   "execution_count": 42,
   "metadata": {},
   "outputs": [],
   "source": [
    "import numpy as np\n",
    "import matplotlib.pyplot as plt\n",
    "\n",
    "def cart_to_pol(x, y):\n",
    "    r = np.sqrt(x**2 + y**2)\n",
    "    theta_rad = np.arctan2(y, x)\n",
    "    theta_deg = np.rad2deg(theta_rad) # Converts to degrees\n",
    "    if theta_deg < 0:\n",
    "        theta_deg = 360 + theta_deg\n",
    "    return(r, theta_rad, theta_deg)\n",
    "\n",
    "def pol_to_cart(r, theta):\n",
    "    x = r * np.cos(theta)\n",
    "    y = r * np.sin(theta)\n",
    "    return (x, y)"
   ]
  },
  {
   "cell_type": "code",
   "execution_count": 43,
   "metadata": {},
   "outputs": [
    {
     "name": "stdout",
     "output_type": "stream",
     "text": [
      "Theta in Radians: (2.23606797749979, -0.4636476090008061)\n",
      "Theta in Degrees: (2.23606797749979, 333.434948822922)\n"
     ]
    }
   ],
   "source": [
    "r, theta_rad, theta_deg = cart_to_pol(2, -1)\n",
    "print(f\"Theta in Radians: ({r}, {theta_rad})\")\n",
    "print(f\"Theta in Degrees: ({r}, {theta_deg})\")"
   ]
  },
  {
   "cell_type": "code",
   "execution_count": 44,
   "metadata": {},
   "outputs": [
    {
     "name": "stdout",
     "output_type": "stream",
     "text": [
      "Theta in Radians: (2.8284271247461903, -2.356194490192345)\n",
      "Theta in Degrees: (2.8284271247461903, 225.0)\n"
     ]
    }
   ],
   "source": [
    "r, theta_rad, theta_deg = cart_to_pol(-2, -2)\n",
    "print(f\"Theta in Radians: ({r}, {theta_rad})\")\n",
    "print(f\"Theta in Degrees: ({r}, {theta_deg})\")"
   ]
  },
  {
   "cell_type": "code",
   "execution_count": 45,
   "metadata": {},
   "outputs": [
    {
     "name": "stdout",
     "output_type": "stream",
     "text": [
      "(7.391036260090294, 3.0614674589207183)\n"
     ]
    }
   ],
   "source": [
    "print(pol_to_cart(8, np.pi / 8))"
   ]
  },
  {
   "cell_type": "code",
   "execution_count": null,
   "metadata": {},
   "outputs": [],
   "source": [
    "theta = np.linspace( 0 , 2 * np.pi , 150 )\n",
    " \n",
    "radius = 0.4\n",
    " \n",
    "a = radius * np.cos( theta )\n",
    "b = radius * np.sin( theta )\n",
    " \n",
    "figure, axes = plt.subplots( 1 )\n",
    " \n",
    "axes.plot( a, b )\n",
    "axes.set_aspect( 1 )\n",
    " \n",
    "plt.title( 'Parametric Equation Circle' )\n",
    "plt.show()"
   ]
  }
 ],
 "metadata": {
  "kernelspec": {
   "display_name": "Python 3",
   "language": "python",
   "name": "python3"
  },
  "language_info": {
   "codemirror_mode": {
    "name": "ipython",
    "version": 3
   },
   "file_extension": ".py",
   "mimetype": "text/x-python",
   "name": "python",
   "nbconvert_exporter": "python",
   "pygments_lexer": "ipython3",
   "version": "3.10.11"
  },
  "orig_nbformat": 4
 },
 "nbformat": 4,
 "nbformat_minor": 2
}
