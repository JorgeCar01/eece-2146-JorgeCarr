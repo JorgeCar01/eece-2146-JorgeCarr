{
 "cells": [
  {
   "cell_type": "code",
   "execution_count": 10,
   "metadata": {},
   "outputs": [],
   "source": [
    "'''\n",
    "Jorge Carranza Pena\n",
    "Assignment 3\n",
    "EECE 2146\n",
    "20563986\n",
    "'''\n",
    "import numpy as np"
   ]
  },
  {
   "cell_type": "code",
   "execution_count": 11,
   "metadata": {},
   "outputs": [
    {
     "name": "stdout",
     "output_type": "stream",
     "text": [
      "[[ 3  6]\n",
      " [13 10]]\n"
     ]
    }
   ],
   "source": [
    "# Question 1\n",
    "\n",
    "x = np.array([\n",
    "    [2, 4],\n",
    "    [5, 4]\n",
    "])\n",
    "y = np.array([\n",
    "    [1, 2],\n",
    "    [8, 6]\n",
    "])\n",
    "print(x + y)"
   ]
  },
  {
   "cell_type": "code",
   "execution_count": 12,
   "metadata": {},
   "outputs": [
    {
     "name": "stdout",
     "output_type": "stream",
     "text": [
      "[[ 6 12]\n",
      " [15 12]]\n"
     ]
    }
   ],
   "source": [
    "# Question 2\n",
    "\n",
    "x = np.array([\n",
    "    [2, 4],\n",
    "    [5, 4]\n",
    "])\n",
    "print(3 * x)"
   ]
  },
  {
   "cell_type": "code",
   "execution_count": 13,
   "metadata": {},
   "outputs": [
    {
     "ename": "ValueError",
     "evalue": "Matrices must have the same shape for addition.",
     "output_type": "error",
     "traceback": [
      "\u001b[0;31m---------------------------------------------------------------------------\u001b[0m",
      "\u001b[0;31mValueError\u001b[0m                                Traceback (most recent call last)",
      "\u001b[1;32m/workspaces/eece-2146-JorgeCarr/2146_matrix_algebra.ipynb Cell 4\u001b[0m line \u001b[0;36m1\n\u001b[1;32m      <a href='vscode-notebook-cell://codespaces%2Borganic-parakeet-wr577qgqgjf96qp/workspaces/eece-2146-JorgeCarr/2146_matrix_algebra.ipynb#W3sdnNjb2RlLXJlbW90ZQ%3D%3D?line=6'>7</a>\u001b[0m y \u001b[39m=\u001b[39m np\u001b[39m.\u001b[39marray([\n\u001b[1;32m      <a href='vscode-notebook-cell://codespaces%2Borganic-parakeet-wr577qgqgjf96qp/workspaces/eece-2146-JorgeCarr/2146_matrix_algebra.ipynb#W3sdnNjb2RlLXJlbW90ZQ%3D%3D?line=7'>8</a>\u001b[0m     [\u001b[39m4\u001b[39m],\n\u001b[1;32m      <a href='vscode-notebook-cell://codespaces%2Borganic-parakeet-wr577qgqgjf96qp/workspaces/eece-2146-JorgeCarr/2146_matrix_algebra.ipynb#W3sdnNjb2RlLXJlbW90ZQ%3D%3D?line=8'>9</a>\u001b[0m     [\u001b[39m2\u001b[39m]\n\u001b[1;32m     <a href='vscode-notebook-cell://codespaces%2Borganic-parakeet-wr577qgqgjf96qp/workspaces/eece-2146-JorgeCarr/2146_matrix_algebra.ipynb#W3sdnNjb2RlLXJlbW90ZQ%3D%3D?line=9'>10</a>\u001b[0m ])\n\u001b[1;32m     <a href='vscode-notebook-cell://codespaces%2Borganic-parakeet-wr577qgqgjf96qp/workspaces/eece-2146-JorgeCarr/2146_matrix_algebra.ipynb#W3sdnNjb2RlLXJlbW90ZQ%3D%3D?line=10'>11</a>\u001b[0m \u001b[39mif\u001b[39;00m x\u001b[39m.\u001b[39mshape \u001b[39m!=\u001b[39m y\u001b[39m.\u001b[39mshape:\n\u001b[0;32m---> <a href='vscode-notebook-cell://codespaces%2Borganic-parakeet-wr577qgqgjf96qp/workspaces/eece-2146-JorgeCarr/2146_matrix_algebra.ipynb#W3sdnNjb2RlLXJlbW90ZQ%3D%3D?line=11'>12</a>\u001b[0m     \u001b[39mraise\u001b[39;00m \u001b[39mValueError\u001b[39;00m(\u001b[39m\"\u001b[39m\u001b[39mMatrices must have the same shape for addition.\u001b[39m\u001b[39m\"\u001b[39m)\n\u001b[1;32m     <a href='vscode-notebook-cell://codespaces%2Borganic-parakeet-wr577qgqgjf96qp/workspaces/eece-2146-JorgeCarr/2146_matrix_algebra.ipynb#W3sdnNjb2RlLXJlbW90ZQ%3D%3D?line=13'>14</a>\u001b[0m result \u001b[39m=\u001b[39m x \u001b[39m+\u001b[39m y\n\u001b[1;32m     <a href='vscode-notebook-cell://codespaces%2Borganic-parakeet-wr577qgqgjf96qp/workspaces/eece-2146-JorgeCarr/2146_matrix_algebra.ipynb#W3sdnNjb2RlLXJlbW90ZQ%3D%3D?line=14'>15</a>\u001b[0m \u001b[39mprint\u001b[39m(result)\n",
      "\u001b[0;31mValueError\u001b[0m: Matrices must have the same shape for addition."
     ]
    }
   ],
   "source": [
    "# Question 3\n",
    "\n",
    "x = np.array([\n",
    "    [8, 2],\n",
    "    [6, 2]\n",
    "])\n",
    "y = np.array([\n",
    "    [4],\n",
    "    [2]\n",
    "])\n",
    "if x.shape != y.shape:\n",
    "    raise ValueError(\"Matrices must have the same shape for addition.\")\n",
    "\n",
    "result = x + y\n",
    "print(result)"
   ]
  },
  {
   "cell_type": "code",
   "execution_count": null,
   "metadata": {},
   "outputs": [
    {
     "name": "stdout",
     "output_type": "stream",
     "text": [
      "[[17 20]\n",
      " [26 24]]\n"
     ]
    }
   ],
   "source": [
    "# Question 4\n",
    "\n",
    "x = np.array([\n",
    "    [4, 1],\n",
    "    [4, 2]\n",
    "])\n",
    "y = np.array([\n",
    "    [2, 4],\n",
    "    [9, 4]\n",
    "])\n",
    "print(np.dot(x, y))"
   ]
  },
  {
   "cell_type": "code",
   "execution_count": null,
   "metadata": {},
   "outputs": [
    {
     "name": "stdout",
     "output_type": "stream",
     "text": [
      "[[3 4]\n",
      " [4 5]]\n"
     ]
    }
   ],
   "source": [
    "# Question 5\n",
    "\n",
    "y = np.array([\n",
    "    [3, 4],\n",
    "    [4, 5]\n",
    "])\n",
    "\n",
    "x = np.identity(2, int)\n",
    "\n",
    "print(np.dot(x, y))"
   ]
  },
  {
   "cell_type": "code",
   "execution_count": null,
   "metadata": {},
   "outputs": [
    {
     "name": "stdout",
     "output_type": "stream",
     "text": [
      "[[26]\n",
      " [ 7]]\n"
     ]
    }
   ],
   "source": [
    "# Question 6\n",
    "\n",
    "x = np.array([\n",
    "    [6, 2],\n",
    "    [1, 3]\n",
    "])\n",
    "y = np.array([\n",
    "    [4],\n",
    "    [1]\n",
    "])\n",
    "print(np.dot(x, y))"
   ]
  }
 ],
 "metadata": {
  "kernelspec": {
   "display_name": "Python 3",
   "language": "python",
   "name": "python3"
  },
  "language_info": {
   "codemirror_mode": {
    "name": "ipython",
    "version": 3
   },
   "file_extension": ".py",
   "mimetype": "text/x-python",
   "name": "python",
   "nbconvert_exporter": "python",
   "pygments_lexer": "ipython3",
   "version": "3.10.8"
  },
  "orig_nbformat": 4
 },
 "nbformat": 4,
 "nbformat_minor": 2
}
