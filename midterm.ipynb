{
 "cells": [
  {
   "cell_type": "code",
   "execution_count": 23,
   "metadata": {},
   "outputs": [],
   "source": [
    "'''\n",
    "Jorge Carranza Pena\n",
    "MIDTERM\n",
    "EECE 2146\n",
    "20563986\n",
    "'''\n",
    "import numpy as np"
   ]
  },
  {
   "cell_type": "code",
   "execution_count": 24,
   "metadata": {},
   "outputs": [
    {
     "name": "stdout",
     "output_type": "stream",
     "text": [
      "(-1+0j)\n"
     ]
    }
   ],
   "source": [
    "# Q1\n",
    "\n",
    "print((1j)**6)"
   ]
  },
  {
   "cell_type": "code",
   "execution_count": 25,
   "metadata": {},
   "outputs": [
    {
     "name": "stdout",
     "output_type": "stream",
     "text": [
      "(4+17j)\n"
     ]
    }
   ],
   "source": [
    "# Q2\n",
    "\n",
    "print(12j + (4 + 5j))"
   ]
  },
  {
   "cell_type": "code",
   "execution_count": 26,
   "metadata": {},
   "outputs": [
    {
     "name": "stdout",
     "output_type": "stream",
     "text": [
      "(41+0j)\n"
     ]
    }
   ],
   "source": [
    "# Q3\n",
    "\n",
    "print((5-4j)*(5+4j))"
   ]
  },
  {
   "cell_type": "code",
   "execution_count": 27,
   "metadata": {},
   "outputs": [
    {
     "name": "stdout",
     "output_type": "stream",
     "text": [
      "(0.03076923076923077+0.24615384615384617j)\n",
      "0.03076923076923077 0.24615384615384617\n"
     ]
    }
   ],
   "source": [
    "# Q4\n",
    "\n",
    "print((2j)/(8+1j))\n",
    "print(2/65, 16/65)"
   ]
  },
  {
   "cell_type": "code",
   "execution_count": 28,
   "metadata": {},
   "outputs": [],
   "source": [
    "def cart_to_pol(x, y):\n",
    "    r = np.sqrt(x**2 + y**2)\n",
    "    theta_rad = np.arctan2(y, x)\n",
    "    theta_deg = np.rad2deg(theta_rad) # Converts to degrees\n",
    "    if theta_deg < 0:\n",
    "        theta_deg = 360 + theta_deg\n",
    "    return(r, theta_rad, theta_deg)\n",
    "\n",
    "def pol_to_cart(r, theta):\n",
    "    x = r * np.cos(theta)\n",
    "    y = r * np.sin(theta)\n",
    "    return (x, y)"
   ]
  },
  {
   "cell_type": "code",
   "execution_count": 29,
   "metadata": {},
   "outputs": [
    {
     "name": "stdout",
     "output_type": "stream",
     "text": [
      "r = 25.079872407968907, theta_rad = 1.6506263125071339, theta_deg = 94.57392125990086\n"
     ]
    }
   ],
   "source": [
    "# Q5\n",
    "\n",
    "r, t_rad, t_deg = cart_to_pol(-2, 25)\n",
    "print(f\"r = {r}, theta_rad = {t_rad}, theta_deg = {t_deg}\")"
   ]
  },
  {
   "cell_type": "code",
   "execution_count": 30,
   "metadata": {},
   "outputs": [
    {
     "name": "stdout",
     "output_type": "stream",
     "text": [
      "x = -12.944271909999163, y = -9.404564036679565\n"
     ]
    }
   ],
   "source": [
    "# Q6\n",
    "\n",
    "x, y = pol_to_cart(16, 3.2*np.pi)\n",
    "print(f\"x = {x}, y = {y}\")"
   ]
  },
  {
   "cell_type": "code",
   "execution_count": 31,
   "metadata": {},
   "outputs": [
    {
     "name": "stdout",
     "output_type": "stream",
     "text": [
      "[[46]\n",
      " [17]]\n"
     ]
    }
   ],
   "source": [
    "# Q9\n",
    "\n",
    "a = np.array([\n",
    "    [5, 6],\n",
    "    [2, 1]\n",
    "])\n",
    "\n",
    "b = np.array([\n",
    "    [8],\n",
    "    [1]\n",
    "])\n",
    "\n",
    "print(np.dot(a, b))"
   ]
  },
  {
   "cell_type": "code",
   "execution_count": 32,
   "metadata": {},
   "outputs": [
    {
     "name": "stdout",
     "output_type": "stream",
     "text": [
      "x = 1.090909090909091, y = -0.9090909090909092\n",
      "2 = 2\n",
      "4 = 4\n",
      "CHECK\n",
      " [[ 1.09090909]\n",
      " [-0.90909091]]\n"
     ]
    }
   ],
   "source": [
    "'''\n",
    "Q10\n",
    "Solve the system of linear equations via the matrix inversion method:\n",
    "6x + 5y = 2\n",
    "2x - 2y = 4\n",
    "'''\n",
    "\n",
    "A = np.array([\n",
    "                    [6, 5],\n",
    "                    [2, -2]\n",
    "                ])\n",
    "\n",
    "B = np.array([\n",
    "                [2],\n",
    "                [4]\n",
    "            ])\n",
    "\n",
    "'''\n",
    "    Let X = [x]\n",
    "            [y]\n",
    "    AX = B\n",
    "    X = (A^-1)B\n",
    "'''\n",
    "\n",
    "X = np.dot(np.linalg.inv(A) , B)\n",
    "\n",
    "x = X[0][0]\n",
    "y = X[1][0]\n",
    "\n",
    "print(f\"x = {x}, y = {y}\")\n",
    "\n",
    "print(f\"{round(6*(x) + 5*(y))} = 2\")\n",
    "print(f\"{round(2*(x) - 2*(y))} = 4\")\n",
    "\n",
    "print(\"CHECK\\n\", np.linalg.solve(A, B))"
   ]
  },
  {
   "cell_type": "code",
   "execution_count": 33,
   "metadata": {},
   "outputs": [
    {
     "name": "stdout",
     "output_type": "stream",
     "text": [
      "x = 1.263157894736842, y = 1.0526315789473686, and z = -0.10526315789473686\n",
      "2 = 2\n",
      "4 = 4\n",
      "8 = 8\n",
      "CHECK\n",
      " [[ 1.26315789]\n",
      " [ 1.05263158]\n",
      " [-0.10526316]]\n"
     ]
    }
   ],
   "source": [
    "'''\n",
    "Q11\n",
    "Solve the system of linear equations via the matrix inversion method:\n",
    "2x + 5z = 2\n",
    "4x - y = 4\n",
    "2x + 5y - 2z = 8\n",
    "'''\n",
    "\n",
    "A = np.array([\n",
    "                    [2, 0, 5],\n",
    "                    [4, -1, 0],\n",
    "                    [2, 5, -2]\n",
    "                ])\n",
    "\n",
    "B = np.array([\n",
    "                [2],\n",
    "                [4],\n",
    "                [8]\n",
    "            ])\n",
    "\n",
    "'''\n",
    "    Let X = [x]\n",
    "            [y]\n",
    "    AX = B\n",
    "    X = (A^-1)B\n",
    "'''\n",
    "\n",
    "X = np.dot(np.linalg.inv(A) , B)\n",
    "\n",
    "x = X[0][0]\n",
    "y = X[1][0]\n",
    "z = X[2][0]\n",
    "\n",
    "print(f\"x = {x}, y = {y}, and z = {z}\")\n",
    "\n",
    "print(f\"{round(2*x + 5*z)} = 2\")\n",
    "print(f\"{round(4*x - y)} = 4\")\n",
    "print(f\"{round(2*x + 5*y - 2*z)} = 8\")\n",
    "\n",
    "\n",
    "print(\"CHECK\\n\", np.linalg.solve(A, B))"
   ]
  }
 ],
 "metadata": {
  "kernelspec": {
   "display_name": "Python 3",
   "language": "python",
   "name": "python3"
  },
  "language_info": {
   "codemirror_mode": {
    "name": "ipython",
    "version": 3
   },
   "file_extension": ".py",
   "mimetype": "text/x-python",
   "name": "python",
   "nbconvert_exporter": "python",
   "pygments_lexer": "ipython3",
   "version": "3.10.11"
  }
 },
 "nbformat": 4,
 "nbformat_minor": 2
}
