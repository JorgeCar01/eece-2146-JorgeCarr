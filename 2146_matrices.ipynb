{
 "cells": [
  {
   "cell_type": "code",
   "execution_count": 10,
   "metadata": {},
   "outputs": [],
   "source": [
    "'''\n",
    "Jorge Carranza Pena\n",
    "Assignment 3\n",
    "EECE 2146\n",
    "20563986\n",
    "'''\n",
    "import numpy as np\n"
   ]
  },
  {
   "cell_type": "code",
   "execution_count": 11,
   "metadata": {},
   "outputs": [
    {
     "name": "stdout",
     "output_type": "stream",
     "text": [
      "Det(A) = 1.0\n",
      "I2 is reversible, determinant is not zero\n"
     ]
    }
   ],
   "source": [
    "# Question 1\n",
    "A = np.identity(n=2)\n",
    "det = np.linalg.det(A)\n",
    "\n",
    "print(f\"Det(A) = {det}\")\n",
    "\n",
    "if det != 0:\n",
    "    print(\"I2 is reversible, determinant is not zero\")\n",
    "else:\n",
    "    print(\"I2 is not reversible, determinant is zero\")"
   ]
  },
  {
   "cell_type": "code",
   "execution_count": 12,
   "metadata": {},
   "outputs": [
    {
     "name": "stdout",
     "output_type": "stream",
     "text": [
      "Identity Matrix: \n",
      " [[1. 0.]\n",
      " [0. 1.]]\n",
      "Inverse of Identity Matrix:\n",
      " [[1. 0.]\n",
      " [0. 1.]]\n"
     ]
    }
   ],
   "source": [
    "# Question 2\n",
    "A = np.identity(n=2)\n",
    "\n",
    "inverse = np.linalg.inv(A)\n",
    "\n",
    "print(\"Identity Matrix: \\n\", A)\n",
    "print(\"Inverse of Identity Matrix:\\n\", inverse)"
   ]
  },
  {
   "cell_type": "code",
   "execution_count": 13,
   "metadata": {},
   "outputs": [
    {
     "name": "stdout",
     "output_type": "stream",
     "text": [
      "det(A) = 7.999999999999998\n",
      "Identity Matrix: \n",
      " [[10  8]\n",
      " [ 4  4]]\n",
      "Inverse of Identity Matrix:\n",
      " [[ 0.5  -1.  ]\n",
      " [-0.5   1.25]]\n"
     ]
    }
   ],
   "source": [
    "# Question 3\n",
    "A = np.array([\n",
    "    [10, 8],\n",
    "    [4, 4]\n",
    "])\n",
    "print(f\"det(A) = {np.linalg.det(A)}\")\n",
    "inverse = np.linalg.inv(A)\n",
    "\n",
    "print(\"Identity Matrix: \\n\", A)\n",
    "print(\"Inverse of Identity Matrix:\\n\", inverse)"
   ]
  },
  {
   "cell_type": "code",
   "execution_count": 15,
   "metadata": {},
   "outputs": [
    {
     "name": "stdout",
     "output_type": "stream",
     "text": [
      "det(A) = 0.0\n",
      "Identity Matrix: \n",
      " [[2 4]\n",
      " [4 8]]\n",
      "Inverse of Identity Matrix:\n",
      " An error occured: Singular matrix\n"
     ]
    }
   ],
   "source": [
    "# Question 4\n",
    "A = np.array([\n",
    "    [2, 4],\n",
    "    [4, 8]\n",
    "])\n",
    "print(f\"det(A) = {np.linalg.det(A)}\")\n",
    "try:\n",
    "    inverse = np.linalg.inv(A)\n",
    "except Exception as err:\n",
    "    inverse = f\"An error occured: {err}\"\n",
    "\n",
    "print(\"Identity Matrix: \\n\", A)\n",
    "print(\"Inverse of Identity Matrix:\\n\", inverse)\n"
   ]
  },
  {
   "cell_type": "code",
   "execution_count": null,
   "metadata": {},
   "outputs": [
    {
     "name": "stdout",
     "output_type": "stream",
     "text": [
      "det(D) = -17.999999999999996\n",
      "det(D_x) = -54.00000000000001\n",
      "det(D_y) = 72.0\n",
      "x = 3.000000000000001, y = -4.000000000000001\n"
     ]
    }
   ],
   "source": [
    "# Question 5 - CRAMER'S RULE\n",
    "D = np.array([\n",
    "    [2, 4],\n",
    "    [6, 3]\n",
    "])\n",
    "\n",
    "D_x = np.array([\n",
    "    [-10, 4],\n",
    "    [6, 3]\n",
    "])\n",
    "\n",
    "D_y = np.array([\n",
    "    [2, -10],\n",
    "    [6, 6]\n",
    "])\n",
    "\n",
    "det_D = np.linalg.det(D)\n",
    "det_D_x = np.linalg.det(D_x)\n",
    "det_D_y = np.linalg.det(D_y)\n",
    "\n",
    "print(f\"det(D) = {det_D}\")\n",
    "print(f\"det(D_x) = {det_D_x}\")\n",
    "print(f\"det(D_y) = {det_D_y}\")\n",
    "\n",
    "x = det_D_x / det_D\n",
    "y = det_D_y / det_D\n",
    "\n",
    "print(f\"x = {x}, y = {y}\")"
   ]
  }
 ],
 "metadata": {
  "kernelspec": {
   "display_name": "Python 3",
   "language": "python",
   "name": "python3"
  },
  "language_info": {
   "codemirror_mode": {
    "name": "ipython",
    "version": 3
   },
   "file_extension": ".py",
   "mimetype": "text/x-python",
   "name": "python",
   "nbconvert_exporter": "python",
   "pygments_lexer": "ipython3",
   "version": "3.10.11"
  }
 },
 "nbformat": 4,
 "nbformat_minor": 2
}
