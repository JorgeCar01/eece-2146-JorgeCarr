{
 "cells": [
  {
   "cell_type": "code",
   "execution_count": 13,
   "metadata": {},
   "outputs": [],
   "source": [
    "'''\n",
    "Jorge Carranza Pena\n",
    "Assignment 5\n",
    "EECE 2146\n",
    "20563986\n",
    "'''\n",
    "import numpy as np"
   ]
  },
  {
   "cell_type": "code",
   "execution_count": 14,
   "metadata": {},
   "outputs": [
    {
     "name": "stdout",
     "output_type": "stream",
     "text": [
      "x = 2, y = 1, and z = -3\n",
      "CHECK\n",
      " [[ 2.]\n",
      " [ 1.]\n",
      " [-3.]]\n"
     ]
    }
   ],
   "source": [
    "'''\n",
    "Q1\n",
    "Solve the system of linear equations via the matrix inversion method:\n",
    "-3x + 2y - 6z = 14\n",
    "4x - 5y + 2z = -3\n",
    "7x + 9y + 3z = 14\n",
    "'''\n",
    "\n",
    "A = np.array([\n",
    "                    [-3, 2, -6],\n",
    "                    [4, -5, 2],\n",
    "                    [7, 9, 3]\n",
    "                ])\n",
    "\n",
    "B = np.array([\n",
    "                [14],\n",
    "                [-3],\n",
    "                [14]\n",
    "            ])\n",
    "\n",
    "'''\n",
    "    Let X = [x]\n",
    "            [y]\n",
    "    AX = B\n",
    "    X = (A^-1)B\n",
    "'''\n",
    "\n",
    "X = np.dot(np.linalg.inv(A) , B)\n",
    "\n",
    "x = X[0][0]\n",
    "y = X[1][0]\n",
    "z = X[2][0]\n",
    "\n",
    "# Rounding due to floating point error\n",
    "print(f\"x = {round(x)}, y = {round(y)}, and z = {round(z)}\")\n",
    "\n",
    "print(\"CHECK\\n\", np.linalg.solve(A, B))\n"
   ]
  },
  {
   "cell_type": "code",
   "execution_count": 15,
   "metadata": {},
   "outputs": [
    {
     "name": "stdout",
     "output_type": "stream",
     "text": [
      "x = 4, y = -3, and z = -1\n",
      "CHECK\n",
      " [[ 4.]\n",
      " [-3.]\n",
      " [-1.]]\n"
     ]
    }
   ],
   "source": [
    "'''\n",
    "Q2\n",
    "Solve the system of linear equations via the matrix inversion method:\n",
    "x - 2y + 3z = 7\n",
    "2x + y + z = 4\n",
    "-3x - 2z = -10\n",
    "'''\n",
    "\n",
    "A = np.array([\n",
    "                    [1, -2, 3],\n",
    "                    [2, 1, 1],\n",
    "                    [-3, 0, -2]\n",
    "                ])\n",
    "\n",
    "B = np.array([\n",
    "                [7],\n",
    "                [4],\n",
    "                [-10]\n",
    "            ])\n",
    "\n",
    "'''\n",
    "    Let X = [x]\n",
    "            [y]\n",
    "    AX = B\n",
    "    X = (A^-1)B\n",
    "'''\n",
    "\n",
    "X = np.dot(np.linalg.inv(A) , B)\n",
    "\n",
    "x = X[0][0]\n",
    "y = X[1][0]\n",
    "z = X[2][0]\n",
    "\n",
    "# Rounding due to floating point error\n",
    "print(f\"x = {round(x)}, y = {round(y)}, and z = {round(z)}\")\n",
    "\n",
    "print(\"CHECK\\n\", np.linalg.solve(A, B))\n"
   ]
  }
 ],
 "metadata": {
  "kernelspec": {
   "display_name": "Python 3",
   "language": "python",
   "name": "python3"
  },
  "language_info": {
   "codemirror_mode": {
    "name": "ipython",
    "version": 3
   },
   "file_extension": ".py",
   "mimetype": "text/x-python",
   "name": "python",
   "nbconvert_exporter": "python",
   "pygments_lexer": "ipython3",
   "version": "3.10.11"
  }
 },
 "nbformat": 4,
 "nbformat_minor": 2
}
