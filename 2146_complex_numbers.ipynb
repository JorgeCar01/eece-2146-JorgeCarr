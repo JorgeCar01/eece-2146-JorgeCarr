{
 "cells": [
  {
   "cell_type": "code",
   "execution_count": 6,
   "metadata": {},
   "outputs": [
    {
     "data": {
      "text/plain": [
       "'\\nJorge Carranza Pena\\nAssignment 1\\nEECE 2146\\n20563986\\n'"
      ]
     },
     "execution_count": 6,
     "metadata": {},
     "output_type": "execute_result"
    }
   ],
   "source": [
    "'''\n",
    "Jorge Carranza Pena\n",
    "Assignment 1\n",
    "EECE 2146\n",
    "20563986\n",
    "'''"
   ]
  },
  {
   "cell_type": "code",
   "execution_count": 8,
   "metadata": {},
   "outputs": [
    {
     "name": "stdout",
     "output_type": "stream",
     "text": [
      "(3-0.2j)\n",
      "(12+4j)\n",
      "(-5+1j)\n",
      "-2j\n",
      "55\n"
     ]
    }
   ],
   "source": [
    "import numpy as np\n",
    "print(np.conj(3 + .2j))\n",
    "print(np.conj(12 - 4j))\n",
    "print(np.conj(-5 - 1j))\n",
    "print(np.conj(2j))\n",
    "print(np.conj(55))"
   ]
  },
  {
   "cell_type": "markdown",
   "metadata": {},
   "source": []
  },
  {
   "cell_type": "code",
   "execution_count": 3,
   "metadata": {},
   "outputs": [
    {
     "name": "stdout",
     "output_type": "stream",
     "text": [
      "(-4.5-3j)\n"
     ]
    }
   ],
   "source": [
    "x = (6 - 9j) / 2j\n",
    "\n",
    "print(x)\n"
   ]
  },
  {
   "cell_type": "code",
   "execution_count": 4,
   "metadata": {},
   "outputs": [
    {
     "name": "stdout",
     "output_type": "stream",
     "text": [
      "1j\n"
     ]
    }
   ],
   "source": [
    "print(np.power(1j, 5))"
   ]
  },
  {
   "cell_type": "code",
   "execution_count": 5,
   "metadata": {},
   "outputs": [
    {
     "name": "stdout",
     "output_type": "stream",
     "text": [
      "(-2+6j)\n"
     ]
    }
   ],
   "source": [
    "print((1j) * (6 + 2j))"
   ]
  },
  {
   "cell_type": "code",
   "execution_count": 7,
   "metadata": {},
   "outputs": [
    {
     "name": "stdout",
     "output_type": "stream",
     "text": [
      "(0.38461538461538464+0.9230769230769231j)\n"
     ]
    }
   ],
   "source": [
    "print((3 + 2j) / (3 - 2j))"
   ]
  }
 ],
 "metadata": {
  "kernelspec": {
   "display_name": "Python 3",
   "language": "python",
   "name": "python3"
  },
  "language_info": {
   "codemirror_mode": {
    "name": "ipython",
    "version": 3
   },
   "file_extension": ".py",
   "mimetype": "text/x-python",
   "name": "python",
   "nbconvert_exporter": "python",
   "pygments_lexer": "ipython3",
   "version": "3.10.8"
  },
  "orig_nbformat": 4
 },
 "nbformat": 4,
 "nbformat_minor": 2
}
